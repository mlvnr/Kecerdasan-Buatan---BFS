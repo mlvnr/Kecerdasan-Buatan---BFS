{
 "cells": [
  {
   "cell_type": "markdown",
   "metadata": {},
   "source": [
    "peta = {\n",
    "    'A' : set(['B', 'H']),\n",
    "    'B' : set(['A', 'C', 'H']),\n",
    "    'C' : set(['B', 'D', 'E']),\n",
    "    'D' : set(['C', 'E', 'F', 'G', 'H']),\n",
    "    'E' : set(['C', 'D']),\n",
    "    'F' : set(['D', 'G']),\n",
    "    'G' : set(['F', 'D', 'H']),\n",
    "    'H' : set(['A', 'B',  'D', 'G'])\n",
    "}\n",
    "\n",
    "def bfs_lintasan_terpendek(peta, mulai, tujuan):\n",
    "    explored = []\n",
    "    queue = [[mulai]]\n",
    "\n",
    "    if mulai == tujuan:\n",
    "        return 'Lintasan terpendek dari ' + mulai + ' ke ' + tujuan + ' adalah ' + mulai\n",
    "\n",
    "    while queue:\n",
    "        jalur = queue.pop(0)\n",
    "        node = jalur[-1]\n",
    "        if node not in explored:\n",
    "            neighbours = peta[node]\n",
    "\n",
    "            for neighbour in neighbours:\n",
    "                jalur_baru = list(jalur)\n",
    "                jalur_baru.append(neighbour)\n",
    "                queue.append(jalur_baru)\n",
    "\n",
    "                if neighbour == tujuan:\n",
    "                    return 'Lintasan terpendek dari ' + mulai + ' ke ' + tujuan + ' adalah ' + ' -> '.join(jalur_baru)\n",
    "                \n",
    "            explored.append(node)\n",
    "\n",
    "    return 'Tidak ada lintasan terpendek dari ' + mulai + ' ke ' + tujuan\n",
    "\n",
    "mulai = input('Masukkan titik awal: ')\n",
    "tujuan = input('Masukkan titik tujuan: ')\n",
    "\n",
    "print(bfs_lintasan_terpendek(peta, mulai, tujuan))"
   ]
  }
 ],
 "metadata": {
  "language_info": {
   "name": "python"
  }
 },
 "nbformat": 4,
 "nbformat_minor": 2
}
